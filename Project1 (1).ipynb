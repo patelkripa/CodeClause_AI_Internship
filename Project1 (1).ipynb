{
  "cells": [
    {
      "cell_type": "code",
      "execution_count": null,
      "metadata": {
        "colab": {
          "base_uri": "https://localhost:8080/"
        },
        "id": "MkQZaoJ-XNxi",
        "outputId": "8fea2421-1530-4915-d10e-70315385d053"
      },
      "outputs": [
        {
          "name": "stdout",
          "output_type": "stream",
          "text": [
            "Requirement already satisfied: nltk in /usr/local/lib/python3.11/dist-packages (3.9.1)\n",
            "Requirement already satisfied: click in /usr/local/lib/python3.11/dist-packages (from nltk) (8.1.8)\n",
            "Requirement already satisfied: joblib in /usr/local/lib/python3.11/dist-packages (from nltk) (1.4.2)\n",
            "Requirement already satisfied: regex>=2021.8.3 in /usr/local/lib/python3.11/dist-packages (from nltk) (2024.11.6)\n",
            "Requirement already satisfied: tqdm in /usr/local/lib/python3.11/dist-packages (from nltk) (4.67.1)\n"
          ]
        }
      ],
      "source": [
        "# Install NLTK if not already installed\n",
        "!pip install nltk\n"
      ]
    },
    {
      "cell_type": "code",
      "execution_count": null,
      "metadata": {
        "colab": {
          "base_uri": "https://localhost:8080/"
        },
        "id": "-ImqoFMtXY4M",
        "outputId": "f4c72895-a410-4bd6-d045-9b180459842b"
      },
      "outputs": [
        {
          "name": "stderr",
          "output_type": "stream",
          "text": [
            "[nltk_data] Downloading package punkt to /root/nltk_data...\n",
            "[nltk_data]   Unzipping tokenizers/punkt.zip.\n"
          ]
        },
        {
          "data": {
            "text/plain": [
              "True"
            ]
          },
          "execution_count": 1,
          "metadata": {},
          "output_type": "execute_result"
        }
      ],
      "source": [
        "import nltk\n",
        "\n",
        "# Download the tokenizer data (only once)\n",
        "nltk.download('punkt')\n"
      ]
    },
    {
      "cell_type": "code",
      "execution_count": null,
      "metadata": {
        "colab": {
          "background_save": true,
          "base_uri": "https://localhost:8080/"
        },
        "id": "mm-f_nSveFnE",
        "outputId": "f1010e3a-5d2b-42e4-cb51-2e341c7ebe82"
      },
      "outputs": [
        {
          "name": "stdout",
          "output_type": "stream",
          "text": [
            "Hi, I’m your internship chatbot. Type 'quit' to exit.\n",
            "Hi, how can I help you?\n"
          ]
        }
      ],
      "source": [
        "from nltk.chat.util import Chat, reflections\n",
        "\n",
        "# Define conversation patterns\n",
        "pairs = [\n",
        "    [\n",
        "        r\"hi|hello|hey\",\n",
        "        [\"Hello there!\", \"Hi, how can I help you?\", \"Hey!\"]\n",
        "    ],\n",
        "    [\n",
        "        r\"what is your name ?\",\n",
        "        [\"I’m a simple chatbot created by Kripa.\", \"You can call me ChatBot!\"]\n",
        "    ],\n",
        "    [\n",
        "        r\"how are you ?\",\n",
        "        [\"I’m good! How about you?\", \"Doing great. Hope you're fine too!\"]\n",
        "    ],\n",
        "    [\n",
        "        r\"sorry (.*)\",\n",
        "        [\"No worries!\", \"It's okay, don’t mention it.\"]\n",
        "    ],\n",
        "    [\n",
        "        r\"I am fine|I’m good\",\n",
        "        [\"Glad to hear that!\", \"Awesome, let’s chat more!\"]\n",
        "    ],\n",
        "    [\n",
        "        r\"(.*) your hobby ?\",\n",
        "        [\"I love chatting with people!\", \"Helping users is my hobby.\"]\n",
        "    ],\n",
        "    [\n",
        "        r\"(.*) weather (.*)\",\n",
        "        [\"Sorry, I can't provide weather updates yet.\", \"Check your local weather app for the most accurate forecast.\"]\n",
        "    ],\n",
        "    [\n",
        "        r\"quit\",\n",
        "        [\"Bye! Have a great day!\", \"See you later!\"]\n",
        "    ],\n",
        "    [\n",
        "        r\"(.*)\",\n",
        "        [\"I’m not sure I understand. Can you say that differently?\", \"Interesting! Tell me more.\"]\n",
        "    ]\n",
        "]\n",
        "\n",
        "# Start chat function\n",
        "def chatbot():\n",
        "    print(\"Hi, I’m your internship chatbot. Type 'quit' to exit.\")\n",
        "    chat = Chat(pairs, reflections)\n",
        "    chat.converse()\n",
        "\n",
        "# Run chatbot\n",
        "chatbot()\n"
      ]
    }
  ],
  "metadata": {
    "colab": {
      "provenance": []
    },
    "kernelspec": {
      "display_name": "Python 3",
      "name": "python3"
    },
    "language_info": {
      "name": "python"
    }
  },
  "nbformat": 4,
  "nbformat_minor": 0
}